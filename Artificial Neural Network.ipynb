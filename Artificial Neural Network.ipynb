{
  "nbformat": 4,
  "nbformat_minor": 0,
  "metadata": {
    "colab": {
      "provenance": []
    },
    "kernelspec": {
      "name": "python3",
      "display_name": "Python 3"
    },
    "language_info": {
      "name": "python"
    }
  },
  "cells": [
    {
      "cell_type": "code",
      "execution_count": null,
      "metadata": {
        "colab": {
          "base_uri": "https://localhost:8080/"
        },
        "id": "UbtyEB78CLJI",
        "outputId": "82654af0-fec5-4bbf-9968-0cdf2a514108"
      },
      "outputs": [
        {
          "output_type": "stream",
          "name": "stdout",
          "text": [
            "[[5. 9.]\n",
            " [6. 8.]\n",
            " [2. 8.]]\n",
            "[[70.]\n",
            " [90.]\n",
            " [85.]]\n"
          ]
        }
      ],
      "source": [
        "# To create an artificial neural network\n",
        "# Define the input\n",
        "import numpy as np\n",
        "# sleeping hours and studying hours\n",
        "x=np.array(([5,9],[6,8],[2,8]),dtype=float)\n",
        "print(x)\n",
        "# Define the desire output result\n",
        "y=np.array(([70],[90],[85]),dtype=float)\n",
        "print(y)"
      ]
    },
    {
      "cell_type": "code",
      "source": [
        "# scale upto the unit 1\n",
        "x=x/np.amax(x,axis=0)\n",
        "y=y/100\n",
        "print(\"The X scale upto the unit 1\",x)\n",
        "print(\"The Y scale upto the unit 1\",y)"
      ],
      "metadata": {
        "colab": {
          "base_uri": "https://localhost:8080/"
        },
        "id": "xVxPjU_gMZhi",
        "outputId": "e9b91f01-d8dd-41d3-c8a3-ed3e57189a39"
      },
      "execution_count": null,
      "outputs": [
        {
          "output_type": "stream",
          "name": "stdout",
          "text": [
            "The X scale upto the unit 1 [[0.83333333 1.        ]\n",
            " [1.         0.88888889]\n",
            " [0.33333333 0.88888889]]\n",
            "The Y scale upto the unit 1 [[0.7 ]\n",
            " [0.9 ]\n",
            " [0.85]]\n"
          ]
        }
      ]
    },
    {
      "cell_type": "code",
      "source": [
        "# Define an neuralNetwork class\n",
        "class neuralNetwork:\n",
        "  def __init__(self):\n",
        "    self.input=2\n",
        "    self.hidden=3\n",
        "    self.output=1\n",
        "\n",
        "    self.w1=np.random.randn(self.input,self.hidden)\n",
        "    self.w2=np.random.randn(self.hidden,self.output)\n",
        "\n",
        "  def Forward(self,x):\n",
        "    self.z=np.dot(x,self.w1)\n",
        "    self.z1=self.sigmoid(self.z)\n",
        "    self.z2=np.dot(self.z1,self.w2)\n",
        "    output=self.sigmoid(self.z2)\n",
        "    return output\n",
        "\n",
        "  def sigmoid(self,s,deriv=False):\n",
        "    if(deriv==True):\n",
        "      return s*(1-s)\n",
        "    return 1/(1+(np.exp(-s)))\n",
        "\n",
        "  def Backword(self,x,y,output):\n",
        "    self.output_error=y-output\n",
        "    self.output_error_delta=self.output_error*self.sigmoid(output,deriv=True)\n",
        "    self.z2_error=self.output_error_delta*self.sigmoid(self.w2.T)\n",
        "    self.z2_error_delta=self.z2_error*self.sigmoid(self.z2,deriv=True)\n",
        "\n",
        "    self.w1+=x.T.dot(self.z2_error_delta)\n",
        "    self.w2+=self.z2.T.dot(self.output_error_delta)\n",
        "\n",
        "  def Train(self,x,y):\n",
        "    output=self.Forward(x)\n",
        "    self.Backword(x,y,output)\n",
        "\n",
        "NN=neuralNetwork()\n",
        "\n",
        "for i in range(1000):\n",
        "  NN.Train(x,y)\n",
        "\n",
        "print(\"The input value is \"+str(x))\n",
        "print(\"The desire output is \"+str(y))\n",
        "print(\"The loss is \"+str(np.mean(np.square(y-NN.Forward(x)))))\n",
        "print(\"The actual output is \\n\"+str(NN.Forward(x)))\n"
      ],
      "metadata": {
        "colab": {
          "base_uri": "https://localhost:8080/"
        },
        "id": "8oMVsgl-M_bH",
        "outputId": "d77eec8b-181c-4eb6-b29b-fe88b3cdde5e"
      },
      "execution_count": null,
      "outputs": [
        {
          "output_type": "stream",
          "name": "stdout",
          "text": [
            "The input value is [[0.83333333 1.        ]\n",
            " [1.         0.88888889]\n",
            " [0.33333333 0.88888889]]\n",
            "The desire output is [[0.7 ]\n",
            " [0.9 ]\n",
            " [0.85]]\n",
            "The loss is 0.007558862106145081\n",
            "The actual output is \n",
            "[[0.82099585]\n",
            " [0.8203857 ]\n",
            " [0.80879133]]\n"
          ]
        }
      ]
    }
  ]
}