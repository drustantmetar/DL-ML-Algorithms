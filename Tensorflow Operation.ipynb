{
  "cells": [
    {
      "cell_type": "code",
      "execution_count": null,
      "metadata": {
        "id": "AiX1ZxfuJFJM",
        "outputId": "fbcc8138-2916-4fb1-da15-445ce6035026"
      },
      "outputs": [
        {
          "name": "stdout",
          "output_type": "stream",
          "text": [
            "tf.Tensor(\n",
            "[[1 2 3]\n",
            " [4 5 6]], shape=(2, 3), dtype=int32)\n",
            "tf.Tensor(\n",
            "[[ 7  8]\n",
            " [ 9 10]\n",
            " [11 12]], shape=(3, 2), dtype=int32)\n",
            "tf.Tensor(\n",
            "[[ 58  64]\n",
            " [139 154]], shape=(2, 2), dtype=int32)\n",
            "Matrix A: \n",
            "[[0.9362874  0.11518371]\n",
            " [0.49891353 0.763585  ]] \n",
            "Eigen Vectors:\n",
            "[[-0.64399415  0.7650304 ]\n",
            " [ 0.7650304   0.64399415]]\n",
            "\n",
            "Eigen Values:\n",
            "[0.343605  1.3562673]\n",
            "\n"
          ]
        }
      ],
      "source": [
        "#pip install tensorflow\n",
        "import tensorflow as tf\n",
        "x=tf.constant([1,2,3,4,5,6],shape=[2,3])\n",
        "print(x)\n",
        "\n",
        "y=tf.constant([7,8,9,10,11,12],shape=[3,2])\n",
        "print(y)\n",
        "\n",
        "z=tf.matmul(x,y) #matrix multiplication\n",
        "print(z)\n",
        "\n",
        "matrix=tf.random.uniform([2,2],dtype=tf.float32)\n",
        "print(\"Matrix A: \\n{} \".format(matrix))\n",
        "eigen_values,eigen_vectors=tf.linalg.eigh(matrix)\n",
        "print(\"Eigen Vectors:\\n{}\\n\\nEigen Values:\\n{}\\n\".format(eigen_vectors,eigen_values))\n",
        "\n",
        "\n",
        "\n",
        "#e_matrix_A=tf.random.uniform([2,2],minval=3,maxval=10,dtype=tf.float32,name=\"matrixA\")\n",
        "#print(\"Matrix A:\\n{}\\n\\n\".format(e_matrix_A))\n",
        "#eigen_values_A,eigen_vectors_A=tf.linalg.eigh(e_matrix_A)\n",
        "# linalg = linear algebra\n",
        "# eigh = decomposition of self adjoint metrices"
      ]
    },
    {
      "cell_type": "code",
      "execution_count": null,
      "metadata": {
        "id": "0VxH5LP-JFJX"
      },
      "outputs": [],
      "source": []
    }
  ],
  "metadata": {
    "kernelspec": {
      "display_name": "Python 3.10.1 64-bit",
      "language": "python",
      "name": "python3"
    },
    "language_info": {
      "codemirror_mode": {
        "name": "ipython",
        "version": 3
      },
      "file_extension": ".py",
      "mimetype": "text/x-python",
      "name": "python",
      "nbconvert_exporter": "python",
      "pygments_lexer": "ipython3",
      "version": "3.10.1"
    },
    "orig_nbformat": 4,
    "vscode": {
      "interpreter": {
        "hash": "dbf94b9efce143b5ec84edacc2752c757166dab600df8a2ab1ea05f9c622a814"
      }
    },
    "colab": {
      "provenance": []
    }
  },
  "nbformat": 4,
  "nbformat_minor": 0
}